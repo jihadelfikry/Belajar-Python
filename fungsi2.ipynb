{
 "cells": [
  {
   "cell_type": "code",
   "execution_count": 6,
   "id": "490b9133-52e2-42ce-a591-d63166e07557",
   "metadata": {},
   "outputs": [
    {
     "name": "stdout",
     "output_type": "stream",
     "text": [
      "200\n"
     ]
    }
   ],
   "source": [
    "a=10\n",
    "b=20\n",
    "\n",
    "def perkalian(num1, num2):\n",
    "    \"Dibuat untuk mengkalian num1 dan num2\"\n",
    "    print(num1*num2)\n",
    "\n",
    "c = perkalian(a,b)"
   ]
  },
  {
   "cell_type": "code",
   "execution_count": 3,
   "id": "208e3e22-5eb8-45f4-bfac-3a2dc63c8a4b",
   "metadata": {},
   "outputs": [
    {
     "name": "stdout",
     "output_type": "stream",
     "text": [
      "Selamat sore Jihad\n"
     ]
    }
   ],
   "source": [
    "def hello(waktu, nama):\n",
    "    print(\"Selamat\", waktu, nama)\n",
    "    \n",
    "hello(\"sore\", \"Jihad\")"
   ]
  },
  {
   "cell_type": "code",
   "execution_count": 4,
   "id": "01289406-c203-432c-af36-52dc271b8dbc",
   "metadata": {},
   "outputs": [
    {
     "name": "stdout",
     "output_type": "stream",
     "text": [
      "Selamat pagi Almas\n"
     ]
    }
   ],
   "source": [
    "def hello(waktu, nama):\n",
    "    print(\"Selamat\", waktu, nama)\n",
    "\n",
    "hello(nama=\"Almas\", waktu = \"pagi\")"
   ]
  },
  {
   "cell_type": "code",
   "execution_count": 7,
   "id": "618cfd03-b92f-4e43-a628-55634a8ea487",
   "metadata": {},
   "outputs": [
    {
     "ename": "TypeError",
     "evalue": "hello() missing 2 required positional arguments: 'waktu' and 'nama'",
     "output_type": "error",
     "traceback": [
      "\u001b[1;31m---------------------------------------------------------------------------\u001b[0m",
      "\u001b[1;31mTypeError\u001b[0m                                 Traceback (most recent call last)",
      "\u001b[1;32m<ipython-input-7-18d96973f150>\u001b[0m in \u001b[0;36m<module>\u001b[1;34m\u001b[0m\n\u001b[0;32m      2\u001b[0m     \u001b[0mprint\u001b[0m\u001b[1;33m(\u001b[0m\u001b[1;34m\"Selamat\"\u001b[0m\u001b[1;33m,\u001b[0m \u001b[0mwaktu\u001b[0m\u001b[1;33m,\u001b[0m \u001b[0mnama\u001b[0m\u001b[1;33m)\u001b[0m\u001b[1;33m\u001b[0m\u001b[1;33m\u001b[0m\u001b[0m\n\u001b[0;32m      3\u001b[0m \u001b[1;33m\u001b[0m\u001b[0m\n\u001b[1;32m----> 4\u001b[1;33m \u001b[0mhello\u001b[0m\u001b[1;33m(\u001b[0m\u001b[1;33m)\u001b[0m\u001b[1;33m\u001b[0m\u001b[1;33m\u001b[0m\u001b[0m\n\u001b[0m",
      "\u001b[1;31mTypeError\u001b[0m: hello() missing 2 required positional arguments: 'waktu' and 'nama'"
     ]
    }
   ],
   "source": [
    "def hello(waktu, nama):\n",
    "    print(\"Selamat\", waktu, nama)\n",
    "    \n",
    "hello()"
   ]
  },
  {
   "cell_type": "code",
   "execution_count": 8,
   "id": "f85cf49d-39e5-427f-b283-9fd02ae6acc0",
   "metadata": {},
   "outputs": [
    {
     "name": "stdout",
     "output_type": "stream",
     "text": [
      "Selamat malam jihad\n"
     ]
    }
   ],
   "source": [
    "def hello(waktu=\"malam\", nama=\"jihad\"):\n",
    "    print(\"Selamat\", waktu, nama)\n",
    "\n",
    "hello()"
   ]
  },
  {
   "cell_type": "code",
   "execution_count": 9,
   "id": "33e263f9-8140-48d9-9195-88bdb8d7eced",
   "metadata": {},
   "outputs": [
    {
     "data": {
      "text/plain": [
       "1"
      ]
     },
     "execution_count": 9,
     "metadata": {},
     "output_type": "execute_result"
    }
   ],
   "source": [
    "x = lambda a1,a2,a3:a1+a2-a3\n",
    "\n",
    "x(2,3,4)"
   ]
  },
  {
   "cell_type": "code",
   "execution_count": 4,
   "id": "16daf952-d1d9-415d-8edd-775f48ceaf82",
   "metadata": {},
   "outputs": [],
   "source": [
    "import matematikaaa"
   ]
  },
  {
   "cell_type": "code",
   "execution_count": 5,
   "id": "0de090aa-69bb-4773-8ef7-506818af8db6",
   "metadata": {},
   "outputs": [
    {
     "name": "stdout",
     "output_type": "stream",
     "text": [
      "3.14\n"
     ]
    }
   ],
   "source": [
    "print(matematikaaa.pi)"
   ]
  },
  {
   "cell_type": "code",
   "execution_count": 6,
   "id": "93e90470-f5a7-4af4-ae28-dc7852c544f6",
   "metadata": {},
   "outputs": [
    {
     "name": "stdout",
     "output_type": "stream",
     "text": [
      "1.618\n",
      "True\n",
      "None\n"
     ]
    }
   ],
   "source": [
    "print(matematikaaa.golden_ratio)\n",
    "print(matematikaaa.cek_genap(8))"
   ]
  },
  {
   "cell_type": "code",
   "execution_count": 15,
   "id": "5b1ee81b-4757-4f7c-86be-3168fc792f42",
   "metadata": {},
   "outputs": [
    {
     "data": {
      "text/plain": [
       "['C:\\\\Users\\\\mjiha\\\\belajar_python_yuk',\n",
       " 'C:\\\\Users\\\\mjiha\\\\anaconda3\\\\python38.zip',\n",
       " 'C:\\\\Users\\\\mjiha\\\\anaconda3\\\\DLLs',\n",
       " 'C:\\\\Users\\\\mjiha\\\\anaconda3\\\\lib',\n",
       " 'C:\\\\Users\\\\mjiha\\\\anaconda3',\n",
       " '',\n",
       " 'C:\\\\Users\\\\mjiha\\\\anaconda3\\\\lib\\\\site-packages',\n",
       " 'C:\\\\Users\\\\mjiha\\\\anaconda3\\\\lib\\\\site-packages\\\\locket-0.2.1-py3.8.egg',\n",
       " 'C:\\\\Users\\\\mjiha\\\\anaconda3\\\\lib\\\\site-packages\\\\win32',\n",
       " 'C:\\\\Users\\\\mjiha\\\\anaconda3\\\\lib\\\\site-packages\\\\win32\\\\lib',\n",
       " 'C:\\\\Users\\\\mjiha\\\\anaconda3\\\\lib\\\\site-packages\\\\Pythonwin',\n",
       " 'C:\\\\Users\\\\mjiha\\\\anaconda3\\\\lib\\\\site-packages\\\\IPython\\\\extensions',\n",
       " 'C:\\\\Users\\\\mjiha\\\\.ipython']"
      ]
     },
     "execution_count": 15,
     "metadata": {},
     "output_type": "execute_result"
    }
   ],
   "source": [
    "import sys\n",
    "sys.path"
   ]
  },
  {
   "cell_type": "code",
   "execution_count": 8,
   "id": "73267e3d-055f-453a-b585-bc0f70361f09",
   "metadata": {},
   "outputs": [
    {
     "name": "stdout",
     "output_type": "stream",
     "text": [
      "True\n",
      "None\n"
     ]
    }
   ],
   "source": [
    "print(matematikaaa.cek_genap(8))"
   ]
  },
  {
   "cell_type": "code",
   "execution_count": 9,
   "id": "530fd98b-0312-4287-8f65-1c5676ea7a9e",
   "metadata": {},
   "outputs": [
    {
     "name": "stdout",
     "output_type": "stream",
     "text": [
      "pip 21.0.1 from C:\\Users\\mjiha\\anaconda3\\lib\\site-packages\\pip (python 3.8)\n",
      "\n",
      "Note: you may need to restart the kernel to use updated packages.\n"
     ]
    }
   ],
   "source": [
    "pip --version"
   ]
  },
  {
   "cell_type": "code",
   "execution_count": 10,
   "id": "c9b6c3bd-c62f-4fbd-9c15-ac9aa0ad170c",
   "metadata": {},
   "outputs": [
    {
     "name": "stdout",
     "output_type": "stream",
     "text": [
      "\n",
      "Usage:   \n",
      "  C:\\Users\\mjiha\\anaconda3\\python.exe -m pip <command> [options]\n",
      "\n",
      "Commands:\n",
      "  install                     Install packages.\n",
      "  download                    Download packages.\n",
      "  uninstall                   Uninstall packages.\n",
      "  freeze                      Output installed packages in requirements format.\n",
      "  list                        List installed packages.\n",
      "  show                        Show information about installed packages.\n",
      "  check                       Verify installed packages have compatible dependencies.\n",
      "  config                      Manage local and global configuration.\n",
      "  search                      Search PyPI for packages.\n",
      "  cache                       Inspect and manage pip's wheel cache.\n",
      "  wheel                       Build wheels from your requirements.\n",
      "  hash                        Compute hashes of package archives.\n",
      "  completion                  A helper command used for command completion.\n",
      "  debug                       Show information useful for debugging.\n",
      "  help                        Show help for commands.\n",
      "\n",
      "General Options:\n",
      "  -h, --help                  Show help.\n",
      "  --isolated                  Run pip in an isolated mode, ignoring\n",
      "                              environment variables and user configuration.\n",
      "  -v, --verbose               Give more output. Option is additive, and can be\n",
      "                              used up to 3 times.\n",
      "  -V, --version               Show version and exit.\n",
      "  -q, --quiet                 Give less output. Option is additive, and can be\n",
      "                              used up to 3 times (corresponding to WARNING,\n",
      "                              ERROR, and CRITICAL logging levels).\n",
      "  --log <path>                Path to a verbose appending log.\n",
      "  --no-input                  Disable prompting for input.\n",
      "  --proxy <proxy>             Specify a proxy in the form\n",
      "                              [user:passwd@]proxy.server:port.\n",
      "  --retries <retries>         Maximum number of retries each connection should\n",
      "                              attempt (default 5 times).\n",
      "  --timeout <sec>             Set the socket timeout (default 15 seconds).\n",
      "  --exists-action <action>    Default action when a path already exists:\n",
      "                              (s)witch, (i)gnore, (w)ipe, (b)ackup, (a)bort.\n",
      "  --trusted-host <hostname>   Mark this host or host:port pair as trusted,\n",
      "                              even though it does not have valid or any HTTPS.\n",
      "  --cert <path>               Path to alternate CA bundle.\n",
      "  --client-cert <path>        Path to SSL client certificate, a single file\n",
      "                              containing the private key and the certificate\n",
      "                              in PEM format.\n",
      "  --cache-dir <dir>           Store the cache data in <dir>.\n",
      "  --no-cache-dir              Disable the cache.\n",
      "  --disable-pip-version-check\n",
      "                              Don't periodically check PyPI to determine\n",
      "                              whether a new version of pip is available for\n",
      "                              download. Implied with --no-index.\n",
      "  --no-color                  Suppress colored output.\n",
      "  --no-python-version-warning\n",
      "                              Silence deprecation warnings for upcoming\n",
      "                              unsupported Pythons.\n",
      "  --use-feature <feature>     Enable new functionality, that may be backward\n",
      "                              incompatible.\n",
      "  --use-deprecated <feature>  Enable deprecated functionality, that will be\n",
      "                              removed in the future.\n",
      "Note: you may need to restart the kernel to use updated packages.\n"
     ]
    }
   ],
   "source": [
    "pip help"
   ]
  },
  {
   "cell_type": "code",
   "execution_count": null,
   "id": "67230681-1726-4ec2-88af-dfb204b3a80f",
   "metadata": {},
   "outputs": [],
   "source": []
  }
 ],
 "metadata": {
  "kernelspec": {
   "display_name": "Python 3",
   "language": "python",
   "name": "python3"
  },
  "language_info": {
   "codemirror_mode": {
    "name": "ipython",
    "version": 3
   },
   "file_extension": ".py",
   "mimetype": "text/x-python",
   "name": "python",
   "nbconvert_exporter": "python",
   "pygments_lexer": "ipython3",
   "version": "3.8.8"
  }
 },
 "nbformat": 4,
 "nbformat_minor": 5
}
