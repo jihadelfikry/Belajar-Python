{
 "cells": [
  {
   "cell_type": "code",
   "execution_count": 3,
   "id": "e058ac0d-6b9e-4f09-918f-8664ff80126d",
   "metadata": {},
   "outputs": [
    {
     "name": "stdout",
     "output_type": "stream",
     "text": [
      "halo halo bandung\n"
     ]
    }
   ],
   "source": [
    "a = \"halo \"\n",
    "b = \"bandung\"\n",
    "\n",
    "print((a*2)+b)"
   ]
  },
  {
   "cell_type": "code",
   "execution_count": 4,
   "id": "a20d61b2-73aa-4ae6-9f1b-47c2b25a02de",
   "metadata": {},
   "outputs": [
    {
     "name": "stdout",
     "output_type": "stream",
     "text": [
      "['halo ', 'bandung']\n"
     ]
    }
   ],
   "source": [
    "lagu = [a,b]\n",
    "print(lagu)"
   ]
  },
  {
   "cell_type": "raw",
   "id": "014c36a9-775f-403d-9f9b-40be2cb4b18a",
   "metadata": {},
   "source": [
    "len(lagu)"
   ]
  },
  {
   "cell_type": "code",
   "execution_count": 7,
   "id": "ebf96bca-7a41-455b-a364-a8359f32ba28",
   "metadata": {},
   "outputs": [
    {
     "data": {
      "text/plain": [
       "list"
      ]
     },
     "execution_count": 7,
     "metadata": {},
     "output_type": "execute_result"
    }
   ],
   "source": [
    "type(lagu)"
   ]
  },
  {
   "cell_type": "code",
   "execution_count": 8,
   "id": "85df891b-264a-469c-9ec2-14ee44752d54",
   "metadata": {},
   "outputs": [
    {
     "name": "stdout",
     "output_type": "stream",
     "text": [
      "bandung\n"
     ]
    }
   ],
   "source": [
    "print(lagu[1])"
   ]
  },
  {
   "cell_type": "code",
   "execution_count": 14,
   "id": "3cdba560-d9bf-4b32-87b1-d40e9ffc3e00",
   "metadata": {},
   "outputs": [
    {
     "name": "stdout",
     "output_type": "stream",
     "text": [
      "['Rachma', 'Jihad', 'Sulthon', 'Fathar']\n",
      "Rachma\n",
      "Fathar\n",
      "['Rachma', 'Jihad', 'Sulthon']\n"
     ]
    }
   ],
   "source": [
    "anak_bonyok = [\"Rachma\",\"Jihad\", \"Sulthon\", \"Fathar\"]\n",
    "print(anak_bonyok)\n",
    "print(anak_bonyok[0])\n",
    "print(anak_bonyok[-1])\n",
    "anak_baik = anak_bonyok[0:3]\n",
    "print(anak_baik)"
   ]
  },
  {
   "cell_type": "code",
   "execution_count": 15,
   "id": "749b57ea-ed17-417c-a8b8-e5b06e0a8756",
   "metadata": {},
   "outputs": [
    {
     "name": "stdout",
     "output_type": "stream",
     "text": [
      "['Rachma', 'Jihad', 'Sulthon', 'Rachma', 'Jihad', 'Sulthon', 'Fathar']\n"
     ]
    }
   ],
   "source": [
    "print(anak_baik+anak_bonyok)"
   ]
  },
  {
   "cell_type": "code",
   "execution_count": 23,
   "id": "75ee4f14-3eab-4497-9bb1-dc4e668c890d",
   "metadata": {},
   "outputs": [
    {
     "name": "stdout",
     "output_type": "stream",
     "text": [
      "3\n",
      "4\n"
     ]
    }
   ],
   "source": [
    "print(len(anak_baik))\n",
    "print(len(anak_bonyok))"
   ]
  },
  {
   "cell_type": "markdown",
   "id": "1502a122-2b93-4418-a2af-7b0701b42962",
   "metadata": {},
   "source": [
    "## halaman"
   ]
  },
  {
   "cell_type": "code",
   "execution_count": 41,
   "id": "ac2efcc3-4ffe-4a61-9d1f-eb91f8f46fd9",
   "metadata": {},
   "outputs": [
    {
     "name": "stdout",
     "output_type": "stream",
     "text": [
      "('jihad', 'sulthon', 'fathar')\n"
     ]
    }
   ],
   "source": [
    "nilai = (\"jihad\", \"sulthon\",\"fathar\")\n",
    "print(nilai)"
   ]
  },
  {
   "cell_type": "code",
   "execution_count": 44,
   "id": "6ff6a068-29eb-42ef-bc84-cd7f80704d28",
   "metadata": {},
   "outputs": [
    {
     "ename": "SyntaxError",
     "evalue": "invalid syntax (<ipython-input-44-9d4f20142826>, line 2)",
     "output_type": "error",
     "traceback": [
      "\u001b[1;36m  File \u001b[1;32m\"<ipython-input-44-9d4f20142826>\"\u001b[1;36m, line \u001b[1;32m2\u001b[0m\n\u001b[1;33m    (list(nilai[0:4])=[\"rachel\",\"jihad\",\"sulthon\",\"fathar\"]\u001b[0m\n\u001b[1;37m                     ^\u001b[0m\n\u001b[1;31mSyntaxError\u001b[0m\u001b[1;31m:\u001b[0m invalid syntax\n"
     ]
    }
   ],
   "source": [
    "print(list(nilai))\n",
    "(list(nilai[0:4])=[\"rachel\",\"jihad\",\"sulthon\",\"fathar\"]"
   ]
  },
  {
   "cell_type": "code",
   "execution_count": 45,
   "id": "545651d0-2d49-4609-af96-e38bd6df17b1",
   "metadata": {},
   "outputs": [],
   "source": [
    "orang = {\n",
    "    'nama':'Jihad',\n",
    "    'umur':22,\n",
    "    'gf':'Almas',\n",
    "    'pets':[\"moi\",\"milo\"]\n",
    "}"
   ]
  },
  {
   "cell_type": "code",
   "execution_count": 46,
   "id": "90fc2c22-0c92-4fef-999d-500923aab958",
   "metadata": {},
   "outputs": [
    {
     "name": "stdout",
     "output_type": "stream",
     "text": [
      "{'nama': 'Jihad', 'umur': 22, 'gf': 'Almas', 'pets': ['moi', 'milo']}\n"
     ]
    }
   ],
   "source": [
    "print(orang)"
   ]
  },
  {
   "cell_type": "code",
   "execution_count": 47,
   "id": "e59dcb0a-cfd3-4d9f-bed5-afa6289eb297",
   "metadata": {},
   "outputs": [
    {
     "name": "stdout",
     "output_type": "stream",
     "text": [
      "{'nama': 'Jihad', 'umur': 22, 'gf': 'Almas', 'pets': ['moi', 'milo'], 'siblings': ['rachma', 'sulthon', 'fathar']}\n"
     ]
    }
   ],
   "source": [
    "orang['siblings']=['rachma','sulthon','fathar']\n",
    "print(orang)"
   ]
  },
  {
   "cell_type": "code",
   "execution_count": 51,
   "id": "44f6cf39-0e04-4d76-8fa9-8ea4a79f74b5",
   "metadata": {},
   "outputs": [
    {
     "name": "stdout",
     "output_type": "stream",
     "text": [
      "dict_items([('nama', 'Jihad'), ('umur', 22), ('gf', 'Almas'), ('pets', ['moi', 'milo']), ('siblings', ['rachma', 'sulthon', 'fathar'])])\n",
      "dict_keys(['nama', 'umur', 'gf', 'pets', 'siblings'])\n",
      "dict_values(['Jihad', 22, 'Almas', ['moi', 'milo'], ['rachma', 'sulthon', 'fathar']])\n"
     ]
    }
   ],
   "source": [
    "print(orang.items())\n",
    "print(orang.keys())\n",
    "print(orang.values())"
   ]
  },
  {
   "cell_type": "code",
   "execution_count": null,
   "id": "3eaddeb7-ad25-42e5-96fc-035994a7b61d",
   "metadata": {},
   "outputs": [],
   "source": []
  }
 ],
 "metadata": {
  "kernelspec": {
   "display_name": "Python 3",
   "language": "python",
   "name": "python3"
  },
  "language_info": {
   "codemirror_mode": {
    "name": "ipython",
    "version": 3
   },
   "file_extension": ".py",
   "mimetype": "text/x-python",
   "name": "python",
   "nbconvert_exporter": "python",
   "pygments_lexer": "ipython3",
   "version": "3.8.8"
  }
 },
 "nbformat": 4,
 "nbformat_minor": 5
}
