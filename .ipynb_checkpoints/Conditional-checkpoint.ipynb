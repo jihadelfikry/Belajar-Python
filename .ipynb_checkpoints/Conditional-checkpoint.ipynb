{
 "cells": [
  {
   "cell_type": "code",
   "execution_count": 2,
   "id": "b0b7703f-8692-439a-b97c-50d0f2989dce",
   "metadata": {},
   "outputs": [
    {
     "name": "stdout",
     "output_type": "stream",
     "text": [
      "A lebih muda dari 17\n"
     ]
    }
   ],
   "source": [
    "a = 15\n",
    "if a>17:\n",
    "    print(\"A lebih tua dari 17\")\n",
    "print(\"A lebih muda dari 17\")"
   ]
  },
  {
   "cell_type": "code",
   "execution_count": 13,
   "id": "be959652-dff5-4266-8e29-c74fff73d7ff",
   "metadata": {},
   "outputs": [
    {
     "name": "stdout",
     "output_type": "stream",
     "text": [
      "yes\n",
      "y bukan angka falsy\n",
      "jih adalah bagian dari jih\n"
     ]
    }
   ],
   "source": [
    "x=0\n",
    "y=5\n",
    "\n",
    "if x<y:\n",
    "    print('yes')\n",
    "\n",
    "if y<x:\n",
    "    print('X lebih besar')\n",
    "\n",
    "if x:\n",
    "    print('x bukan angka falsy')\n",
    "\n",
    "if y:\n",
    "    print('y bukan angka falsy')\n",
    "          \n",
    "if 'jih' in 'jihad':\n",
    "    print('jih adalah bagian dari jih')\n",
    "    \n",
    "if 'lucifer' in ['angel', 'michael', 'holy spirit']:\n",
    "    print('lucifer is a part of the angels')"
   ]
  },
  {
   "cell_type": "code",
   "execution_count": 20,
   "id": "83bd6ed6-cca1-45aa-a76b-42729b0d9439",
   "metadata": {},
   "outputs": [
    {
     "name": "stdout",
     "output_type": "stream",
     "text": [
      "100 bagian dari list tsb\n",
      "150 bagian dari list tsb\n"
     ]
    }
   ],
   "source": [
    "if 100 in [100,50,90]:\n",
    "    print('100 bagian dari list tsb')\n",
    "\n",
    "if 150 in range (50,200):\n",
    "    print('150 bagian dari list tsb')"
   ]
  },
  {
   "cell_type": "code",
   "execution_count": 28,
   "id": "3ebc9fc1-c62b-4b3a-b0ad-6928c2c7da55",
   "metadata": {},
   "outputs": [
    {
     "name": "stdout",
     "output_type": "stream",
     "text": [
      "nilaiku dapat c\n"
     ]
    }
   ],
   "source": [
    "nilaiku = 67\n",
    "a=80\n",
    "b=70\n",
    "c=60\n",
    "d=50\n",
    "\n",
    "if nilaiku>=a:\n",
    "    print('nilaiku dapat a')\n",
    "elif nilaiku >=b and nilaiku <a:\n",
    "    print('nilaiku dapat b')\n",
    "elif nilaiku >=c and nilaiku <b:\n",
    "    print('nilaiku dapat c')\n",
    "elif nilaiku >=d and nilaiku <c:\n",
    "    print('nilaiku dapat d')\n",
    "else:\n",
    "    print('Aku tidak lolos matkul ini')"
   ]
  },
  {
   "cell_type": "code",
   "execution_count": 23,
   "id": "ff069f26-bae3-420e-b31d-0aea4dd28c0e",
   "metadata": {},
   "outputs": [
    {
     "name": "stdout",
     "output_type": "stream",
     "text": [
      "Silahkan untuk vaksin di sentra terdekat\n"
     ]
    }
   ],
   "source": [
    "umur = 17\n",
    "sudah_vaksin = False\n",
    "komorbid = False\n",
    "\n",
    "if umur>= 17:\n",
    "    \n",
    "    if sudah_vaksin:\n",
    "        print('cek untuk vaksin ke-2')\n",
    "        \n",
    "    if komorbid:\n",
    "        print('anda tidak eligible untuk vaksin')\n",
    "        \n",
    "print('Silahkan untuk vaksin di sentra terdekat')"
   ]
  },
  {
   "cell_type": "code",
   "execution_count": 31,
   "id": "9c1a7e78-9269-4b63-be81-115a9c1af6a6",
   "metadata": {},
   "outputs": [
    {
     "name": "stdout",
     "output_type": "stream",
     "text": [
      "cek untuk vaksin ke-2\n",
      "Silahkan dapatkan rekomendasi dokter terlebih dahulu\n"
     ]
    }
   ],
   "source": [
    "umur = 17\n",
    "sudah_vaksin = True\n",
    "komorbid = True\n",
    "\n",
    "if umur>= 17:\n",
    "    \n",
    "    if sudah_vaksin:\n",
    "        print('cek untuk vaksin ke-2')\n",
    "    else:\n",
    "        print('vaksin pertama dulu ya')\n",
    "        \n",
    "    if komorbid:\n",
    "        print('Silahkan dapatkan rekomendasi dokter terlebih dahulu')\n",
    "    else:\n",
    "        print('Silahkan lanjutkan vaksinasi anda')\n",
    "        \n",
    "else:\n",
    "    print('Silahkan untuk vaksin di sentra terdekat')"
   ]
  },
  {
   "cell_type": "markdown",
   "id": "f96d6fef-6f3d-465a-b620-5c52a6c0d270",
   "metadata": {},
   "source": [
    "## Ternary Operator\n",
    "'< kalau true> if < pertanyaan> else < kalau false>'   \n",
    "   "
   ]
  },
  {
   "cell_type": "code",
   "execution_count": 32,
   "id": "52cde589-3c75-4983-b3db-27d361e76e3c",
   "metadata": {},
   "outputs": [
    {
     "name": "stdout",
     "output_type": "stream",
     "text": [
      "y lebih besar dari x\n"
     ]
    }
   ],
   "source": [
    "x=10\n",
    "y=15\n",
    "\n",
    "print('x lebih besar dari y') if x>y else print('y lebih besar dari x')"
   ]
  },
  {
   "cell_type": "code",
   "execution_count": 34,
   "id": "d5bc3097-c084-4128-9e8c-5df78f160517",
   "metadata": {},
   "outputs": [
    {
     "ename": "IndentationError",
     "evalue": "expected an indented block (<ipython-input-34-66273196669f>, line 3)",
     "output_type": "error",
     "traceback": [
      "\u001b[1;36m  File \u001b[1;32m\"<ipython-input-34-66273196669f>\"\u001b[1;36m, line \u001b[1;32m3\u001b[0m\n\u001b[1;33m    print('foo')\u001b[0m\n\u001b[1;37m    ^\u001b[0m\n\u001b[1;31mIndentationError\u001b[0m\u001b[1;31m:\u001b[0m expected an indented block\n"
     ]
    }
   ],
   "source": [
    "if True:\n",
    "    \n",
    "print('foo')"
   ]
  },
  {
   "cell_type": "code",
   "execution_count": 35,
   "id": "8cf69ce1-78cf-4b4f-ade9-d2350bb9672a",
   "metadata": {},
   "outputs": [
    {
     "name": "stdout",
     "output_type": "stream",
     "text": [
      "foo\n"
     ]
    }
   ],
   "source": [
    "if True:\n",
    "    pass\n",
    "\n",
    "print('foo')"
   ]
  },
  {
   "cell_type": "markdown",
   "id": "cb834636-c5e0-4a87-82e6-200a610ad7bc",
   "metadata": {},
   "source": [
    "## While\n",
    "\n",
    "Selama kondisi true, statementnya diulang"
   ]
  },
  {
   "cell_type": "code",
   "execution_count": 39,
   "id": "d2898f55-452e-4821-a7fe-52499e5342ca",
   "metadata": {},
   "outputs": [
    {
     "name": "stdout",
     "output_type": "stream",
     "text": [
      "jemur baju\n"
     ]
    }
   ],
   "source": [
    "cuaca_cerah = True\n",
    "\n",
    "if cuaca_cerah:\n",
    "    print('jemur baju')"
   ]
  },
  {
   "cell_type": "code",
   "execution_count": 41,
   "id": "f6979213-6a91-4324-9ad3-31d307066c52",
   "metadata": {},
   "outputs": [
    {
     "name": "stdout",
     "output_type": "stream",
     "text": [
      "jemur baju\n"
     ]
    }
   ],
   "source": [
    "while cuaca_cerah:\n",
    "    print('jemur baju')\n",
    "    cuaca_cerah = False"
   ]
  },
  {
   "cell_type": "code",
   "execution_count": 49,
   "id": "1122a439-191f-439a-bd35-4c1d9abe5a35",
   "metadata": {},
   "outputs": [
    {
     "name": "stdout",
     "output_type": "stream",
     "text": [
      "Kamu masih ada sisa 16  kelas\n",
      "Kamu masih ada sisa 15  kelas\n",
      "Kamu masih ada sisa 14  kelas\n",
      "Kamu masih ada sisa 13  kelas\n",
      "Kamu masih ada sisa 12  kelas\n",
      "Kamu masih ada sisa 11  kelas\n",
      "Kamu masih ada sisa 10  kelas\n",
      "Kamu masih ada sisa 9  kelas\n",
      "Kamu masih ada sisa 8  kelas\n",
      "Kamu masih ada sisa 7  kelas\n",
      "Kamu masih ada sisa 6  kelas\n",
      "Kamu masih ada sisa 5  kelas\n",
      "Kamu masih ada sisa 4  kelas\n",
      "Kamu masih ada sisa 3  kelas\n",
      "Kamu masih ada sisa 2  kelas\n",
      "Kamu masih ada sisa 1  kelas\n",
      "Looping selesai\n"
     ]
    }
   ],
   "source": [
    "sisa_kelas = 16\n",
    "\n",
    "while sisa_kelas >0:\n",
    "    print('Kamu masih ada sisa' ,sisa_kelas, \" kelas\")\n",
    "    sisa_kelas -=1\n",
    "print('Looping selesai')"
   ]
  },
  {
   "cell_type": "code",
   "execution_count": 56,
   "id": "0bac137a-6132-45f7-a336-30a4d2222b39",
   "metadata": {},
   "outputs": [
    {
     "name": "stdout",
     "output_type": "stream",
     "text": [
      "ikut kelas ke- 1\n",
      "ikut kelas ke- 2\n",
      "ikut kelas ke- 3\n",
      "ikut kelas ke- 4\n",
      "ikut kelas ke- 5\n",
      "ikut kelas ke- 6\n",
      "ikut kelas ke- 7\n",
      "Kelas selesai\n"
     ]
    }
   ],
   "source": [
    "counter = 0\n",
    "cuti = 8\n",
    "\n",
    "while counter<16:\n",
    "    counter +=1\n",
    "    if counter==cuti:\n",
    "        break\n",
    "    print('ikut kelas ke-', counter)\n",
    "print('Kelas selesai')"
   ]
  },
  {
   "cell_type": "code",
   "execution_count": 58,
   "id": "d2352187-cbd2-48c7-aa9c-2f483ce36e59",
   "metadata": {},
   "outputs": [
    {
     "name": "stdout",
     "output_type": "stream",
     "text": [
      "ikut kelas ke- 1\n",
      "ikut kelas ke- 2\n",
      "ikut kelas ke- 3\n",
      "ikut kelas ke- 4\n",
      "ikut kelas ke- 5\n",
      "ikut kelas ke- 6\n",
      "ikut kelas ke- 7\n",
      "ikut kelas ke- 9\n",
      "ikut kelas ke- 10\n",
      "ikut kelas ke- 11\n",
      "ikut kelas ke- 12\n",
      "ikut kelas ke- 13\n",
      "ikut kelas ke- 14\n",
      "ikut kelas ke- 15\n",
      "ikut kelas ke- 16\n",
      "Kelas selesai\n"
     ]
    }
   ],
   "source": [
    "counter = 0\n",
    "skip = 8\n",
    "\n",
    "while counter<16:\n",
    "    counter +=1\n",
    "    if counter==cuti:\n",
    "        continue\n",
    "    print('ikut kelas ke-', counter)\n",
    "print('Kelas selesai')"
   ]
  },
  {
   "cell_type": "markdown",
   "id": "2c5df9a3-f72d-4b52-929e-05a855ce6787",
   "metadata": {},
   "source": [
    "## Nested"
   ]
  },
  {
   "cell_type": "code",
   "execution_count": 64,
   "id": "d8fa0a22-0b79-467c-b27c-3ab96b5782c6",
   "metadata": {},
   "outputs": [
    {
     "name": "stdout",
     "output_type": "stream",
     "text": [
      "0 counter < a 5\n",
      "c < b 3\n",
      "c < b 3\n",
      "1 counter < a 5\n",
      "c < b 3\n",
      "c < b 3\n",
      "2 counter < a 5\n",
      "c < b 3\n",
      "c < b 3\n",
      "3 counter < a 5\n",
      "c < b 3\n",
      "c < b 3\n",
      "4 counter < a 5\n",
      "c < b 3\n",
      "c < b 3\n"
     ]
    }
   ],
   "source": [
    "a = 5\n",
    "b = 3\n",
    "counter = 0\n",
    "\n",
    "while counter <a:\n",
    "    print(counter, 'counter < a', a)\n",
    "    c= 1\n",
    "    while c<b:\n",
    "        print('c < b', b)\n",
    "        c +=1\n",
    "    counter +=1"
   ]
  },
  {
   "cell_type": "code",
   "execution_count": 66,
   "id": "40891840-a49d-42cc-96f6-12fa245fcf48",
   "metadata": {},
   "outputs": [
    {
     "name": "stdout",
     "output_type": "stream",
     "text": [
      "10\n",
      "9\n",
      "8\n",
      "7\n",
      "6\n",
      "5\n",
      "4\n",
      "3\n",
      "2\n",
      "1\n",
      "0\n"
     ]
    }
   ],
   "source": [
    "n=10\n",
    "while n>=0: print(n);n-=1"
   ]
  },
  {
   "cell_type": "code",
   "execution_count": 68,
   "id": "2abb7dfd-17c2-4da8-b3e6-ec7eee676883",
   "metadata": {},
   "outputs": [
    {
     "name": "stdout",
     "output_type": "stream",
     "text": [
      "50\n",
      "60\n",
      "70\n",
      "80\n",
      "90\n",
      "100\n"
     ]
    }
   ],
   "source": [
    "nilai = [50,60,70,80,90,100]\n",
    "for i in nilai:\n",
    "    print(i)"
   ]
  },
  {
   "cell_type": "code",
   "execution_count": 78,
   "id": "7b747c16-3ba8-4a1f-b7f3-3217d08186fa",
   "metadata": {},
   "outputs": [
    {
     "name": "stdout",
     "output_type": "stream",
     "text": [
      "nama\n",
      "berat\n",
      "warna\n",
      "apel\n",
      "200\n",
      "merah\n"
     ]
    }
   ],
   "source": [
    "buah = {\n",
    "    'nama':'apel',\n",
    "    'berat':200,\n",
    "    'warna':'merah'\n",
    "}\n",
    "\n",
    "for deskripsi_buah in buah:\n",
    "    print (deskripsi_buah)\n",
    "\n",
    "for deskripsi_buah in buah:\n",
    "    print(buah[deskripsi_buah])"
   ]
  },
  {
   "cell_type": "code",
   "execution_count": 72,
   "id": "dca6f94f-2e7c-4e86-82fc-2e1fd04db539",
   "metadata": {},
   "outputs": [
    {
     "data": {
      "text/plain": [
       "dict_items([('nama', 'apel'), ('berat', 200), ('warna', 'merah')])"
      ]
     },
     "execution_count": 72,
     "metadata": {},
     "output_type": "execute_result"
    }
   ],
   "source": [
    "buah.items()"
   ]
  },
  {
   "cell_type": "code",
   "execution_count": 77,
   "id": "4bd38c43-78d6-4065-8708-c333c0086376",
   "metadata": {},
   "outputs": [
    {
     "name": "stdout",
     "output_type": "stream",
     "text": [
      "nama apel\n",
      "berat 200\n",
      "warna merah\n"
     ]
    }
   ],
   "source": [
    "for key, value in buah.items():\n",
    "    print(key,value)"
   ]
  },
  {
   "cell_type": "code",
   "execution_count": 74,
   "id": "4c063ee7-d593-47c3-9638-661a7aba18b6",
   "metadata": {},
   "outputs": [
    {
     "data": {
      "text/plain": [
       "dict_values(['apel', 200, 'merah'])"
      ]
     },
     "execution_count": 74,
     "metadata": {},
     "output_type": "execute_result"
    }
   ],
   "source": [
    "buah.values()"
   ]
  },
  {
   "cell_type": "code",
   "execution_count": 75,
   "id": "4c3e2284-b0fa-4a44-b45e-51c03d6e50bd",
   "metadata": {},
   "outputs": [
    {
     "data": {
      "text/plain": [
       "dict_keys(['nama', 'berat', 'warna'])"
      ]
     },
     "execution_count": 75,
     "metadata": {},
     "output_type": "execute_result"
    }
   ],
   "source": [
    "buah.keys()"
   ]
  },
  {
   "cell_type": "code",
   "execution_count": 79,
   "id": "7f888e7b-11a2-4047-b7e3-ed74209ce87a",
   "metadata": {},
   "outputs": [
    {
     "name": "stdout",
     "output_type": "stream",
     "text": [
      "0\n",
      "1\n",
      "2\n",
      "3\n",
      "4\n",
      "5\n",
      "6\n",
      "7\n",
      "8\n",
      "9\n"
     ]
    }
   ],
   "source": [
    "for i in range(10):\n",
    "    print(i)"
   ]
  },
  {
   "cell_type": "code",
   "execution_count": 81,
   "id": "e4283e8f-6ead-4d37-bf1c-b321f86aca70",
   "metadata": {},
   "outputs": [
    {
     "name": "stdout",
     "output_type": "stream",
     "text": [
      "2019\n",
      "2020\n",
      "2021\n"
     ]
    }
   ],
   "source": [
    "for tahun_kerja in range(2019,2022):\n",
    "    print(tahun_kerja)"
   ]
  },
  {
   "cell_type": "code",
   "execution_count": 83,
   "id": "86dd4e62-92a2-466d-97fc-02f0ff09afa4",
   "metadata": {},
   "outputs": [
    {
     "name": "stdout",
     "output_type": "stream",
     "text": [
      "2000\n",
      "2005\n",
      "2010\n",
      "2015\n",
      "2020\n"
     ]
    }
   ],
   "source": [
    "for ganti_ban_mobil in range(2000,2021,5):\n",
    "    print(ganti_ban_mobil)"
   ]
  },
  {
   "cell_type": "code",
   "execution_count": 3,
   "id": "109434dc-d0b8-41b7-8121-5b3103c5da28",
   "metadata": {},
   "outputs": [
    {
     "name": "stdin",
     "output_type": "stream",
     "text": [
      "Ketikan suhu yang ingin dikonversi, eg. 45F, 120C:  90C\n"
     ]
    },
    {
     "name": "stdout",
     "output_type": "stream",
     "text": [
      "90\n",
      "C\n",
      "Temperatur adalah 194 derajat\n"
     ]
    }
   ],
   "source": [
    "temp = input(\"Ketikan suhu yang ingin dikonversi, eg. 45F, 120C: \")\n",
    "degree = int(temp[:-1])\n",
    "i_convertion = temp[-1]\n",
    "\n",
    "print(degree)\n",
    "print(i_convertion)\n",
    "if i_convertion == \"C\":\n",
    "    result = int(round((9*degree)/ 5+32))\n",
    "elif i_convertion ==\"F\":\n",
    "    result = int(round((degree-32)*5/9))\n",
    "else:\n",
    "    print(\"Masukkan input yang benar\")\n",
    "    \n",
    "print('Temperatur adalah', result, \"derajat\")"
   ]
  },
  {
   "cell_type": "code",
   "execution_count": 86,
   "id": "b94763cc-93e3-4ff4-860a-e8cb812c707c",
   "metadata": {},
   "outputs": [
    {
     "name": "stdin",
     "output_type": "stream",
     "text": [
      "Ketikan karakter : Jihad\n"
     ]
    },
    {
     "name": "stdout",
     "output_type": "stream",
     "text": [
      "jihad\n"
     ]
    },
    {
     "name": "stdin",
     "output_type": "stream",
     "text": [
      "Ketikan karakter : Sitp\n"
     ]
    },
    {
     "name": "stdout",
     "output_type": "stream",
     "text": [
      "sitp\n"
     ]
    },
    {
     "name": "stdin",
     "output_type": "stream",
     "text": [
      "Ketikan karakter : Stop\n"
     ]
    },
    {
     "name": "stdout",
     "output_type": "stream",
     "text": [
      "stop\n"
     ]
    }
   ],
   "source": [
    "while True:\n",
    "    msg = input(\"Ketikan karakter :\").lower()\n",
    "    print(msg)\n",
    "    if msg == \"stop\":\n",
    "        break"
   ]
  },
  {
   "cell_type": "markdown",
   "id": "c22246c3-6f80-4e6d-8283-46947becf074",
   "metadata": {},
   "source": [
    "# Selesaiiii"
   ]
  },
  {
   "cell_type": "code",
   "execution_count": 5,
   "id": "8c92292f-63c4-4af5-be26-70ef46b95575",
   "metadata": {},
   "outputs": [
    {
     "name": "stdout",
     "output_type": "stream",
     "text": [
      "9\n"
     ]
    }
   ],
   "source": [
    "a = \"90F\"\n",
    "b = a[:-2]\n",
    "print(b)"
   ]
  },
  {
   "cell_type": "code",
   "execution_count": null,
   "id": "3c72b1be-88f3-44c6-b402-e67212d450cb",
   "metadata": {},
   "outputs": [],
   "source": []
  }
 ],
 "metadata": {
  "kernelspec": {
   "display_name": "Python 3",
   "language": "python",
   "name": "python3"
  },
  "language_info": {
   "codemirror_mode": {
    "name": "ipython",
    "version": 3
   },
   "file_extension": ".py",
   "mimetype": "text/x-python",
   "name": "python",
   "nbconvert_exporter": "python",
   "pygments_lexer": "ipython3",
   "version": "3.8.8"
  }
 },
 "nbformat": 4,
 "nbformat_minor": 5
}
