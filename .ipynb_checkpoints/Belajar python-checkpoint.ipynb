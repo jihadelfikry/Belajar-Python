{
 "cells": [
  {
   "cell_type": "markdown",
   "id": "b76e469d",
   "metadata": {},
   "source": [
    "# Belajar Menggunakan Python"
   ]
  },
  {
   "cell_type": "markdown",
   "id": "104e85fe",
   "metadata": {},
   "source": [
    "Python adalah bahasa pemograman paling populer"
   ]
  },
  {
   "cell_type": "markdown",
   "id": "0b4cf7b7",
   "metadata": {},
   "source": [
    "# Heading 1\n",
    "## Heading 2\n",
    "### Heading 3\n",
    "###### Heading 6"
   ]
  },
  {
   "cell_type": "markdown",
   "id": "06eaac5f",
   "metadata": {},
   "source": [
    "Menggunakan font *italic seperti ini*"
   ]
  },
  {
   "cell_type": "markdown",
   "id": "42efef67",
   "metadata": {},
   "source": [
    "Sedangkan font **Bold seperti ini**"
   ]
  },
  {
   "cell_type": "markdown",
   "id": "cbcb8b42",
   "metadata": {},
   "source": [
    "***Ini kombinasi keduanya***"
   ]
  },
  {
   "cell_type": "markdown",
   "id": "77c30bef",
   "metadata": {},
   "source": [
    "Komposisi Air gula adalah:\n",
    "* Air\n",
    "    * H20\n",
    "* Gula\n",
    "    * C6H12O6"
   ]
  },
  {
   "cell_type": "markdown",
   "id": "135abbbd",
   "metadata": {},
   "source": [
    "Juara Hackaton Bangkit adalah:\n",
    "1. Jihad\n",
    "2. Ezra\n",
    "3. Abi\n",
    "4. Gagah"
   ]
  },
  {
   "cell_type": "markdown",
   "id": "5b0bb090",
   "metadata": {},
   "source": [
    "Dalam pidatonya Jihad berkata:\n",
    "> \"Keep moving forward\"\n"
   ]
  },
  {
   "cell_type": "code",
   "execution_count": null,
   "id": "8423ec3d",
   "metadata": {},
   "outputs": [],
   "source": []
  }
 ],
 "metadata": {
  "kernelspec": {
   "display_name": "Python 3",
   "language": "python",
   "name": "python3"
  },
  "language_info": {
   "codemirror_mode": {
    "name": "ipython",
    "version": 3
   },
   "file_extension": ".py",
   "mimetype": "text/x-python",
   "name": "python",
   "nbconvert_exporter": "python",
   "pygments_lexer": "ipython3",
   "version": "3.8.8"
  }
 },
 "nbformat": 4,
 "nbformat_minor": 5
}
