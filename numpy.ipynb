{
 "cells": [
  {
   "cell_type": "code",
   "execution_count": 1,
   "id": "4143966f-6164-4b40-94d3-31865dffbc7c",
   "metadata": {},
   "outputs": [
    {
     "name": "stdout",
     "output_type": "stream",
     "text": [
      "Requirement already satisfied: numpy in c:\\users\\mjiha\\anaconda3\\lib\\site-packages (1.20.1)\n",
      "Note: you may need to restart the kernel to use updated packages.\n"
     ]
    }
   ],
   "source": [
    "pip install numpy"
   ]
  },
  {
   "cell_type": "code",
   "execution_count": 2,
   "id": "826f4b54-ff08-48c0-91c7-331de74e1541",
   "metadata": {},
   "outputs": [],
   "source": [
    "import numpy as np"
   ]
  },
  {
   "cell_type": "code",
   "execution_count": 5,
   "id": "ccb8a02e-a27b-41fb-865d-24e12174789b",
   "metadata": {},
   "outputs": [
    {
     "name": "stdout",
     "output_type": "stream",
     "text": [
      "[1 2 3]\n"
     ]
    },
    {
     "data": {
      "text/plain": [
       "array([1, 2, 3])"
      ]
     },
     "execution_count": 5,
     "metadata": {},
     "output_type": "execute_result"
    }
   ],
   "source": [
    "a = np.array([1,2,3])\n",
    "print(a)\n",
    "a"
   ]
  },
  {
   "cell_type": "code",
   "execution_count": 6,
   "id": "12f4f76b-7e79-4e90-ad2d-9a0d38b71d14",
   "metadata": {},
   "outputs": [
    {
     "name": "stdout",
     "output_type": "stream",
     "text": [
      "[1, 2, 3]\n"
     ]
    },
    {
     "data": {
      "text/plain": [
       "[1, 2, 3]"
      ]
     },
     "execution_count": 6,
     "metadata": {},
     "output_type": "execute_result"
    }
   ],
   "source": [
    "b = [1,2,3]\n",
    "print(b)\n",
    "b"
   ]
  },
  {
   "cell_type": "code",
   "execution_count": 10,
   "id": "340ff613-9eba-4f34-9ef2-3dc41466685d",
   "metadata": {},
   "outputs": [
    {
     "name": "stdout",
     "output_type": "stream",
     "text": [
      "[[1 2 3]\n",
      " [4 5 6]\n",
      " [7 8 9]]\n"
     ]
    },
    {
     "data": {
      "text/plain": [
       "array([[1, 2, 3],\n",
       "       [4, 5, 6],\n",
       "       [7, 8, 9]])"
      ]
     },
     "execution_count": 10,
     "metadata": {},
     "output_type": "execute_result"
    }
   ],
   "source": [
    "c = np.array([[1,2,3],[4,5,6],[7,8,9]])\n",
    "print(c)\n",
    "c"
   ]
  },
  {
   "cell_type": "code",
   "execution_count": 11,
   "id": "dec842c0-d62a-474b-a2f6-9932d11987f6",
   "metadata": {},
   "outputs": [
    {
     "name": "stdout",
     "output_type": "stream",
     "text": [
      "[[1 2 3 4]\n",
      " [5 6 7 8]]\n"
     ]
    },
    {
     "data": {
      "text/plain": [
       "array([[1, 2, 3, 4],\n",
       "       [5, 6, 7, 8]])"
      ]
     },
     "execution_count": 11,
     "metadata": {},
     "output_type": "execute_result"
    }
   ],
   "source": [
    "d=np.array([[1,2,3,4],[5,6,7,8]])\n",
    "print(d)\n",
    "d"
   ]
  },
  {
   "cell_type": "code",
   "execution_count": 12,
   "id": "905348c1-9052-4759-b79c-749ba74e177f",
   "metadata": {},
   "outputs": [
    {
     "name": "stdout",
     "output_type": "stream",
     "text": [
      "[0. 0. 0. 0.]\n"
     ]
    }
   ],
   "source": [
    "nb=np.zeros(4)\n",
    "print(nb)"
   ]
  },
  {
   "cell_type": "code",
   "execution_count": 13,
   "id": "d6f4e0bb-359b-4e73-a25f-6fac2ff9da10",
   "metadata": {},
   "outputs": [
    {
     "data": {
      "text/plain": [
       "array([0., 0., 0., 0., 0., 0.])"
      ]
     },
     "execution_count": 13,
     "metadata": {},
     "output_type": "execute_result"
    }
   ],
   "source": [
    "np.empty(6)"
   ]
  },
  {
   "cell_type": "code",
   "execution_count": 15,
   "id": "0d55116c-d35a-476b-8b4b-115d0b6c384f",
   "metadata": {},
   "outputs": [
    {
     "data": {
      "text/plain": [
       "array([1., 1., 1., 1., 1., 1., 1., 1.])"
      ]
     },
     "execution_count": 15,
     "metadata": {},
     "output_type": "execute_result"
    }
   ],
   "source": [
    "np.ones(8)"
   ]
  },
  {
   "cell_type": "code",
   "execution_count": 17,
   "id": "b402b369-be02-45d7-a808-39dc7d39e90c",
   "metadata": {},
   "outputs": [
    {
     "data": {
      "text/plain": [
       "array([0, 1, 2, 3, 4, 5, 6, 7, 8])"
      ]
     },
     "execution_count": 17,
     "metadata": {},
     "output_type": "execute_result"
    }
   ],
   "source": [
    "np.arange(9)"
   ]
  },
  {
   "cell_type": "code",
   "execution_count": 19,
   "id": "cd9dff00-c847-4af6-8dca-7c4587b6c07c",
   "metadata": {},
   "outputs": [
    {
     "data": {
      "text/plain": [
       "array([0, 2, 4, 6, 8])"
      ]
     },
     "execution_count": 19,
     "metadata": {},
     "output_type": "execute_result"
    }
   ],
   "source": [
    "np.arange(0,10,2) #start, stop, step"
   ]
  },
  {
   "cell_type": "markdown",
   "id": "3f2dc050-fd5a-4d67-913f-b6ae3184f867",
   "metadata": {},
   "source": [
    "## Add, Remove, Sort"
   ]
  },
  {
   "cell_type": "code",
   "execution_count": 21,
   "id": "9e8c5d4d-9bf0-43c7-b0b0-987b22d75b2f",
   "metadata": {},
   "outputs": [
    {
     "name": "stdout",
     "output_type": "stream",
     "text": [
      "[3. 5. 7. 9. 1. 1. 1.]\n"
     ]
    }
   ],
   "source": [
    "a = np.arange(3,10,2)\n",
    "b = np.ones(3)\n",
    "\n",
    "c= np.append(a,b)\n",
    "print(c)"
   ]
  },
  {
   "cell_type": "code",
   "execution_count": 26,
   "id": "0dc4e5c5-4489-44c0-a4b5-19d2f4474a61",
   "metadata": {},
   "outputs": [
    {
     "name": "stdout",
     "output_type": "stream",
     "text": [
      "[3. 5. 7. 9. 1. 1.]\n"
     ]
    }
   ],
   "source": [
    "e=np.delete(c,5)\n",
    "print(e)"
   ]
  },
  {
   "cell_type": "code",
   "execution_count": 27,
   "id": "3b5020a3-5620-4f62-ba29-8ca9b527f9ac",
   "metadata": {},
   "outputs": [
    {
     "name": "stdout",
     "output_type": "stream",
     "text": [
      "[1. 1. 3. 5. 7. 9.]\n"
     ]
    }
   ],
   "source": [
    "d = np.sort(e)\n",
    "print(d)"
   ]
  },
  {
   "cell_type": "markdown",
   "id": "00bfbeb8-bb6c-42dc-acae-982ecdf15800",
   "metadata": {},
   "source": [
    "## Shape n Size"
   ]
  },
  {
   "cell_type": "code",
   "execution_count": 30,
   "id": "9e8b7190-6c0f-4690-8044-8c2382d295ee",
   "metadata": {},
   "outputs": [
    {
     "data": {
      "text/plain": [
       "3"
      ]
     },
     "execution_count": 30,
     "metadata": {},
     "output_type": "execute_result"
    }
   ],
   "source": [
    "ab = np.array([[[1,2,3,4],\n",
    "              [5,6,7,8]],\n",
    "             [[11,22,33,44],\n",
    "             [55,66,77,88]]])\n",
    "\n",
    "np.ndim(ab)"
   ]
  },
  {
   "cell_type": "code",
   "execution_count": 31,
   "id": "9a4968b1-3c7d-4a57-9517-5e4ea7e9ab12",
   "metadata": {},
   "outputs": [
    {
     "data": {
      "text/plain": [
       "16"
      ]
     },
     "execution_count": 31,
     "metadata": {},
     "output_type": "execute_result"
    }
   ],
   "source": [
    "np.size(ab)"
   ]
  },
  {
   "cell_type": "code",
   "execution_count": 32,
   "id": "3620e711-bc15-472d-bc16-d8fa85fdb57f",
   "metadata": {},
   "outputs": [
    {
     "data": {
      "text/plain": [
       "(2, 2, 4)"
      ]
     },
     "execution_count": 32,
     "metadata": {},
     "output_type": "execute_result"
    }
   ],
   "source": [
    "np.shape(ab) #kita akan dapat (2,2,4) artinya :\n",
    "#di level pertama ada 2 element\n",
    "#setiap item tersebut(level ke-2) ada 2 item\n",
    "#setap element tersebut(level ke-3) ada 4 barang lagi"
   ]
  },
  {
   "cell_type": "markdown",
   "id": "a606e527-db6f-40fa-853f-996a9570543e",
   "metadata": {},
   "source": [
    "## Reshape"
   ]
  },
  {
   "cell_type": "code",
   "execution_count": 36,
   "id": "d8dea108-fd7e-486e-894d-70e14cd609cd",
   "metadata": {},
   "outputs": [
    {
     "name": "stdout",
     "output_type": "stream",
     "text": [
      "[ 1  2  3  4  5  6  7  8  9 10 11 12 13 14 15 16 17 18 19 20 21 22 23 24]\n"
     ]
    }
   ],
   "source": [
    "array_asal = np.arange(1,25,1)\n",
    "print(array_asal)"
   ]
  },
  {
   "cell_type": "code",
   "execution_count": 38,
   "id": "aad1d040-7a6b-4f1d-8d45-5261ba8538c8",
   "metadata": {},
   "outputs": [
    {
     "name": "stdout",
     "output_type": "stream",
     "text": [
      "[[ 1  2  3  4  5  6]\n",
      " [ 7  8  9 10 11 12]\n",
      " [13 14 15 16 17 18]\n",
      " [19 20 21 22 23 24]]\n"
     ]
    }
   ],
   "source": [
    "array_b=array_asal.reshape(4,6)\n",
    "print(array_b)"
   ]
  },
  {
   "cell_type": "code",
   "execution_count": 40,
   "id": "56aacdff-3c21-4cfe-b32c-8acd2045af41",
   "metadata": {},
   "outputs": [
    {
     "name": "stdout",
     "output_type": "stream",
     "text": [
      "[[[ 1  2  3  4]\n",
      "  [ 5  6  7  8]\n",
      "  [ 9 10 11 12]]\n",
      "\n",
      " [[13 14 15 16]\n",
      "  [17 18 19 20]\n",
      "  [21 22 23 24]]]\n"
     ]
    }
   ],
   "source": [
    "array_c=array_asal.reshape(2,3,4)\n",
    "print(array_c)"
   ]
  },
  {
   "cell_type": "code",
   "execution_count": 41,
   "id": "f6b32144-fd3d-4f18-9644-53729e2202e2",
   "metadata": {},
   "outputs": [
    {
     "data": {
      "text/plain": [
       "(6,)"
      ]
     },
     "execution_count": 41,
     "metadata": {},
     "output_type": "execute_result"
    }
   ],
   "source": [
    "a = np.array([1,2,3,4,5,6])\n",
    "a.shape"
   ]
  },
  {
   "cell_type": "code",
   "execution_count": 44,
   "id": "ea2e560f-829a-4b5b-a195-68200e603f70",
   "metadata": {},
   "outputs": [
    {
     "name": "stdout",
     "output_type": "stream",
     "text": [
      "(1, 6)\n",
      "[[1 2 3 4 5 6]]\n"
     ]
    }
   ],
   "source": [
    "a2=a[np.newaxis]\n",
    "print(a2.shape)\n",
    "print(a2)"
   ]
  },
  {
   "cell_type": "code",
   "execution_count": 46,
   "id": "457586e8-9d0a-475a-9864-2ba9e25f70dd",
   "metadata": {},
   "outputs": [
    {
     "name": "stdout",
     "output_type": "stream",
     "text": [
      "(1, 6)\n",
      "[[1 2 3 4 5 6]]\n"
     ]
    }
   ],
   "source": [
    "row_vector = a[np.newaxis, :] #nambah kolom\n",
    "print(row_vector.shape)\n",
    "print(row_vector)"
   ]
  },
  {
   "cell_type": "code",
   "execution_count": 47,
   "id": "edd64266-c1fe-4189-86db-1d00c734d9e1",
   "metadata": {},
   "outputs": [
    {
     "name": "stdout",
     "output_type": "stream",
     "text": [
      "(6, 1)\n",
      "[[1]\n",
      " [2]\n",
      " [3]\n",
      " [4]\n",
      " [5]\n",
      " [6]]\n"
     ]
    }
   ],
   "source": [
    "col_vector=a[:,np.newaxis] #nambah row\n",
    "print(col_vector.shape)\n",
    "print(col_vector)"
   ]
  },
  {
   "cell_type": "code",
   "execution_count": 49,
   "id": "3f9be603-19c7-4bf7-8a09-81dc21ee9c7f",
   "metadata": {},
   "outputs": [
    {
     "name": "stdout",
     "output_type": "stream",
     "text": [
      "(6, 1)\n",
      "[[1]\n",
      " [2]\n",
      " [3]\n",
      " [4]\n",
      " [5]\n",
      " [6]]\n"
     ]
    }
   ],
   "source": [
    "b=np.expand_dims(a, axis=1)\n",
    "print(b.shape)\n",
    "print(b)"
   ]
  },
  {
   "cell_type": "code",
   "execution_count": 51,
   "id": "d3d0bd59-c725-49fa-9f0e-29b3968ec7e3",
   "metadata": {},
   "outputs": [
    {
     "name": "stdout",
     "output_type": "stream",
     "text": [
      "(1, 6, 1)\n",
      "[[[1]\n",
      "  [2]\n",
      "  [3]\n",
      "  [4]\n",
      "  [5]\n",
      "  [6]]]\n"
     ]
    }
   ],
   "source": [
    "c=np.expand_dims(b, axis=0)\n",
    "print(c.shape)\n",
    "print(c)"
   ]
  },
  {
   "cell_type": "code",
   "execution_count": 53,
   "id": "0e4c1f16-3c53-48d1-a6de-1568b39bbdae",
   "metadata": {},
   "outputs": [
    {
     "name": "stdout",
     "output_type": "stream",
     "text": [
      "[1 2 3]\n",
      "2\n",
      "[1 2]\n",
      "[2 3]\n",
      "[2 3]\n"
     ]
    }
   ],
   "source": [
    "data=np.array([1,2,3])\n",
    "print(data)\n",
    "print(data[1])\n",
    "print(data[0:2])\n",
    "print(data[1:])\n",
    "print(data[-2:])"
   ]
  },
  {
   "cell_type": "code",
   "execution_count": 54,
   "id": "b8906d02-1a3e-403e-9757-2393bf213c12",
   "metadata": {},
   "outputs": [
    {
     "data": {
      "text/plain": [
       "array([ 1,  2,  3,  4,  5,  6,  7,  8,  9, 10, 11, 12, 13, 14, 15, 16, 17,\n",
       "       18, 19, 20, 21, 22, 23, 24])"
      ]
     },
     "execution_count": 54,
     "metadata": {},
     "output_type": "execute_result"
    }
   ],
   "source": [
    "array_asal"
   ]
  },
  {
   "cell_type": "code",
   "execution_count": 55,
   "id": "25ef4ecf-b6c8-4c7e-ad2a-320444ad3b2f",
   "metadata": {},
   "outputs": [
    {
     "data": {
      "text/plain": [
       "array([21, 22, 23, 24])"
      ]
     },
     "execution_count": 55,
     "metadata": {},
     "output_type": "execute_result"
    }
   ],
   "source": [
    "array_asal[array_asal >20]"
   ]
  },
  {
   "cell_type": "code",
   "execution_count": 56,
   "id": "b606c787-c991-4110-8b58-da5486ee5926",
   "metadata": {},
   "outputs": [
    {
     "data": {
      "text/plain": [
       "array([20, 21, 22, 23, 24])"
      ]
     },
     "execution_count": 56,
     "metadata": {},
     "output_type": "execute_result"
    }
   ],
   "source": [
    "kondisi = (array_asal>19)\n",
    "array_asal[kondisi]"
   ]
  },
  {
   "cell_type": "code",
   "execution_count": 57,
   "id": "e37e2402-f619-44b1-ac22-1f0889bec0eb",
   "metadata": {},
   "outputs": [
    {
     "data": {
      "text/plain": [
       "array([ 2,  4,  6,  8, 10, 12, 14, 16, 18, 20, 22, 24])"
      ]
     },
     "execution_count": 57,
     "metadata": {},
     "output_type": "execute_result"
    }
   ],
   "source": [
    "modulo2 = (array_asal%2==0)\n",
    "array_asal[modulo2]"
   ]
  },
  {
   "cell_type": "code",
   "execution_count": 64,
   "id": "93d1c8b2-a970-4c2c-beb4-813d7b67b738",
   "metadata": {},
   "outputs": [
    {
     "name": "stdout",
     "output_type": "stream",
     "text": [
      "[12 15 18 21 24]\n"
     ]
    }
   ],
   "source": [
    "kondisi2=array_asal[(array_asal>=10) & (array_asal%3==0)]\n",
    "print(kondisi2)"
   ]
  },
  {
   "cell_type": "code",
   "execution_count": 73,
   "id": "8937d16d-1e35-4cf9-bc7d-fbac11922347",
   "metadata": {},
   "outputs": [
    {
     "name": "stdout",
     "output_type": "stream",
     "text": [
      "[[ 1  2]\n",
      " [ 3  4]\n",
      " [ 5  6]\n",
      " [10 20]\n",
      " [30 40]\n",
      " [50 60]]\n",
      "[[10 20  1  2]\n",
      " [30 40  3  4]\n",
      " [50 60  5  6]]\n"
     ]
    }
   ],
   "source": [
    "arr=np.array([[1,2],[3,4],[5,6]])\n",
    "arr1=np.array([[10,20],[30,40],[50,60]])\n",
    "arr2=np.vstack((arr,arr1))\n",
    "print(arr2)\n",
    "arr3=np.hstack((arr1,arr))\n",
    "print(arr3)"
   ]
  },
  {
   "cell_type": "code",
   "execution_count": 76,
   "id": "fa59f45b-8d91-48a2-aa42-8c3f91cc4ce4",
   "metadata": {},
   "outputs": [
    {
     "data": {
      "text/plain": [
       "[array([[10, 20,  1,  2]]),\n",
       " array([[30, 40,  3,  4]]),\n",
       " array([[50, 60,  5,  6]])]"
      ]
     },
     "execution_count": 76,
     "metadata": {},
     "output_type": "execute_result"
    }
   ],
   "source": [
    "np.vsplit(arr3,3)"
   ]
  },
  {
   "cell_type": "code",
   "execution_count": 80,
   "id": "697e4347-8f74-4fa0-a81c-8869aa6f2473",
   "metadata": {},
   "outputs": [
    {
     "data": {
      "text/plain": [
       "[array([[ 1],\n",
       "        [ 3],\n",
       "        [ 5],\n",
       "        [10],\n",
       "        [30],\n",
       "        [50]]),\n",
       " array([[ 2],\n",
       "        [ 4],\n",
       "        [ 6],\n",
       "        [20],\n",
       "        [40],\n",
       "        [60]])]"
      ]
     },
     "execution_count": 80,
     "metadata": {},
     "output_type": "execute_result"
    }
   ],
   "source": [
    "np.hsplit(arr2, 2)"
   ]
  },
  {
   "cell_type": "code",
   "execution_count": null,
   "id": "510b0a5b-b7c0-4540-9a28-1d71d994eff9",
   "metadata": {},
   "outputs": [],
   "source": []
  }
 ],
 "metadata": {
  "kernelspec": {
   "display_name": "Python 3",
   "language": "python",
   "name": "python3"
  },
  "language_info": {
   "codemirror_mode": {
    "name": "ipython",
    "version": 3
   },
   "file_extension": ".py",
   "mimetype": "text/x-python",
   "name": "python",
   "nbconvert_exporter": "python",
   "pygments_lexer": "ipython3",
   "version": "3.8.8"
  }
 },
 "nbformat": 4,
 "nbformat_minor": 5
}
